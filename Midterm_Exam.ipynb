{
  "nbformat": 4,
  "nbformat_minor": 0,
  "metadata": {
    "colab": {
      "name": "Midterm Exam.ipynb",
      "provenance": [],
      "authorship_tag": "ABX9TyPc/9LE3YL8hBPQSCJ5WdOw",
      "include_colab_link": true
    },
    "kernelspec": {
      "name": "python3",
      "display_name": "Python 3"
    },
    "language_info": {
      "name": "python"
    }
  },
  "cells": [
    {
      "cell_type": "markdown",
      "metadata": {
        "id": "view-in-github",
        "colab_type": "text"
      },
      "source": [
        "<a href=\"https://colab.research.google.com/github/CedricPengson/CPEN-21-A-ECE-2-1/blob/main/Midterm_Exam.ipynb\" target=\"_parent\"><img src=\"https://colab.research.google.com/assets/colab-badge.svg\" alt=\"Open In Colab\"/></a>"
      ]
    },
    {
      "cell_type": "markdown",
      "metadata": {
        "id": "fvEYdC9_1afi"
      },
      "source": [
        "## Problem Statement 1"
      ]
    },
    {
      "cell_type": "code",
      "metadata": {
        "colab": {
          "base_uri": "https://localhost:8080/"
        },
        "id": "H-NT3vnB1Z9a",
        "outputId": "76b91719-5dc1-4484-eb9f-be658b264659"
      },
      "source": [
        "a = \"Name: \"\n",
        "b = \"John Cedric B. Pengson\"\n",
        "c = \"Student No.: \"\n",
        "d = \"202011574\"\n",
        "e = \"Birthday: \" \n",
        "f = \"June 24, 2002\"\n",
        "g = \"Address: \" \n",
        "h = \"Phase 9, Block 68, Lot 6, Brentville st.,\"\n",
        "i = \"Governors Hills Subdivision, Brgy. Biclatan, General Trias, Cavite\"\n",
        "j = \"Course: \"\n",
        "k = \"Bachelor Science in Electronics Communication Engineering\"\n",
        "l = \"Last Sem GWA: \"\n",
        "m = \"1.88\"\n",
        "\n",
        "print (a+b)\n",
        "print (c+d)\n",
        "print (e+f)\n",
        "print (g+h+i)\n",
        "print (j+k)\n",
        "print (l+m)\n",
        "\n"
      ],
      "execution_count": 110,
      "outputs": [
        {
          "output_type": "stream",
          "name": "stdout",
          "text": [
            "Name: John Cedric B. Pengson\n",
            "Student No.: 202011574\n",
            "Birthday: June 24, 2002\n",
            "Address: Phase 9, Block 68, Lot 6, Brentville st.,Governors Hills Subdivision, Brgy. Biclatan, General Trias, Cavite\n",
            "Course: Bachelor Science in Electronics Communication Engineering\n",
            "Last Sem GWA: 1.88\n"
          ]
        }
      ]
    },
    {
      "cell_type": "markdown",
      "metadata": {
        "id": "w3d3RsNP3qR_"
      },
      "source": [
        "## Problem Statement 2"
      ]
    },
    {
      "cell_type": "code",
      "metadata": {
        "colab": {
          "base_uri": "https://localhost:8080/"
        },
        "id": "eJ25zQAp3vM-",
        "outputId": "3b148523-7f12-4873-b4b3-be7dc082187d"
      },
      "source": [
        "#a.\n",
        "n=4\n",
        "print (2<n) and (n<6)"
      ],
      "execution_count": 122,
      "outputs": [
        {
          "output_type": "stream",
          "name": "stdout",
          "text": [
            "True\n"
          ]
        }
      ]
    },
    {
      "cell_type": "code",
      "metadata": {
        "colab": {
          "base_uri": "https://localhost:8080/"
        },
        "id": "RFlhMjA841gy",
        "outputId": "9ea99e25-44bf-468f-dc7e-56356cbbee34"
      },
      "source": [
        "#b.\n",
        "n=4\n",
        "print (2<n) or (n==6)"
      ],
      "execution_count": 123,
      "outputs": [
        {
          "output_type": "stream",
          "name": "stdout",
          "text": [
            "True\n"
          ]
        },
        {
          "output_type": "execute_result",
          "data": {
            "text/plain": [
              "False"
            ]
          },
          "metadata": {},
          "execution_count": 123
        }
      ]
    },
    {
      "cell_type": "code",
      "metadata": {
        "colab": {
          "base_uri": "https://localhost:8080/"
        },
        "id": "fUpV71Sn5dG9",
        "outputId": "e7af6f5a-e1ad-4f01-99f5-8a8907ac11dc"
      },
      "source": [
        "#c.\n",
        "n=4\n",
        "print (not(2<n)) or (n==6)"
      ],
      "execution_count": 124,
      "outputs": [
        {
          "output_type": "stream",
          "name": "stdout",
          "text": [
            "False\n"
          ]
        },
        {
          "output_type": "execute_result",
          "data": {
            "text/plain": [
              "False"
            ]
          },
          "metadata": {},
          "execution_count": 124
        }
      ]
    },
    {
      "cell_type": "code",
      "metadata": {
        "colab": {
          "base_uri": "https://localhost:8080/"
        },
        "id": "evQRfsh05x1M",
        "outputId": "269ca945-674d-4896-82d3-1517a0963c60"
      },
      "source": [
        "#d.\n",
        "n=4\n",
        "print (not(n<6))"
      ],
      "execution_count": 125,
      "outputs": [
        {
          "output_type": "stream",
          "name": "stdout",
          "text": [
            "False\n"
          ]
        }
      ]
    },
    {
      "cell_type": "code",
      "metadata": {
        "colab": {
          "base_uri": "https://localhost:8080/"
        },
        "id": "ejL39HOT5_CR",
        "outputId": "bfedd90d-ec23-45aa-d140-89d75e524702"
      },
      "source": [
        "#e.\n",
        "answ= \"Y\"\n",
        "print (answ==\"Y\") or (answ==\"y\")"
      ],
      "execution_count": 126,
      "outputs": [
        {
          "output_type": "stream",
          "name": "stdout",
          "text": [
            "True\n"
          ]
        },
        {
          "output_type": "execute_result",
          "data": {
            "text/plain": [
              "False"
            ]
          },
          "metadata": {},
          "execution_count": 126
        }
      ]
    },
    {
      "cell_type": "code",
      "metadata": {
        "colab": {
          "base_uri": "https://localhost:8080/"
        },
        "id": "Cuc0UCTw6xnq",
        "outputId": "94e5a37f-4702-4ca3-e614-addedfba609b"
      },
      "source": [
        "#f.\n",
        "answ= \"Y\"\n",
        "print (answ==\"Y\") and (answ==\"y\")"
      ],
      "execution_count": 127,
      "outputs": [
        {
          "output_type": "stream",
          "name": "stdout",
          "text": [
            "True\n"
          ]
        }
      ]
    },
    {
      "cell_type": "code",
      "metadata": {
        "colab": {
          "base_uri": "https://localhost:8080/"
        },
        "id": "W_lKbxY38CYF",
        "outputId": "05974f1d-1713-446c-9950-1fada8d4156d"
      },
      "source": [
        "#g.\n",
        "answ= \"Y\"\n",
        "print (not(answ==\"y\"))"
      ],
      "execution_count": 128,
      "outputs": [
        {
          "output_type": "stream",
          "name": "stdout",
          "text": [
            "True\n"
          ]
        }
      ]
    },
    {
      "cell_type": "code",
      "metadata": {
        "colab": {
          "base_uri": "https://localhost:8080/"
        },
        "id": "TkbKM1w58eYn",
        "outputId": "1dac5566-1931-439d-893a-454617c8d856"
      },
      "source": [
        "#h.\n",
        "n = 4\n",
        "answ = \"Y\"\n",
        "print ((2<n) and (n==\"5+1\")) or (answ==\"No\")"
      ],
      "execution_count": 129,
      "outputs": [
        {
          "output_type": "stream",
          "name": "stdout",
          "text": [
            "False\n"
          ]
        },
        {
          "output_type": "execute_result",
          "data": {
            "text/plain": [
              "False"
            ]
          },
          "metadata": {},
          "execution_count": 129
        }
      ]
    },
    {
      "cell_type": "code",
      "metadata": {
        "colab": {
          "base_uri": "https://localhost:8080/"
        },
        "id": "XAk1UM0M9qtf",
        "outputId": "b17f8bf6-f60d-48a7-aa7e-771836713579"
      },
      "source": [
        "#i.\n",
        "n = 4\n",
        "answ = \"Y\"\n",
        "print ((n==2) and (n==7)) or (answ==\"Y\")"
      ],
      "execution_count": 130,
      "outputs": [
        {
          "output_type": "stream",
          "name": "stdout",
          "text": [
            "False\n"
          ]
        },
        {
          "output_type": "execute_result",
          "data": {
            "text/plain": [
              "True"
            ]
          },
          "metadata": {},
          "execution_count": 130
        }
      ]
    },
    {
      "cell_type": "code",
      "metadata": {
        "colab": {
          "base_uri": "https://localhost:8080/"
        },
        "id": "BOAzbCzO9_7t",
        "outputId": "56288c76-e798-41ad-dbe3-f49eba51b2a3"
      },
      "source": [
        "#j.\n",
        "\n",
        "n=4\n",
        "answ=\"Y\"\n",
        "print (n==2) and ((n==7) or (answ ==\"Y\"))"
      ],
      "execution_count": 131,
      "outputs": [
        {
          "output_type": "stream",
          "name": "stdout",
          "text": [
            "False\n"
          ]
        }
      ]
    },
    {
      "cell_type": "markdown",
      "metadata": {
        "id": "hGnmwCBX_SCK"
      },
      "source": [
        "## Problem Statement 3"
      ]
    },
    {
      "cell_type": "code",
      "metadata": {
        "colab": {
          "base_uri": "https://localhost:8080/"
        },
        "id": "_UvZZSPI_Vi6",
        "outputId": "2f0c9dc8-f7f0-431b-fe04-292d0c8add59"
      },
      "source": [
        "#a. \n",
        "x = 2\n",
        "y = -3\n",
        "w = 7\n",
        "z = -10\n",
        "\n",
        "print (x/y)\n",
        "\n",
        "#b.\n",
        "print (w/y/x)\n",
        "\n",
        "#c.\n",
        "print (z/y%x)\n",
        "\n",
        "#d.\n",
        "print (x%-y*w)\n",
        "\n",
        "#e.\n",
        "print (x%y)\n",
        "\n",
        "#f. \n",
        "print (z%w-y/x*5+5)\n",
        "\n",
        "#g. \n",
        "print (9-x%(2+y))\n",
        "\n",
        "#h.\n",
        "print (z/w)\n",
        "\n",
        "#i. \n",
        "print ((2+y)**2)\n",
        "\n",
        "#j.\n",
        "print (w/x*2)"
      ],
      "execution_count": 121,
      "outputs": [
        {
          "output_type": "stream",
          "name": "stdout",
          "text": [
            "-0.6666666666666666\n",
            "-1.1666666666666667\n",
            "1.3333333333333335\n",
            "14\n",
            "-1\n",
            "16.5\n",
            "9\n",
            "-1.4285714285714286\n",
            "1\n",
            "7.0\n"
          ]
        }
      ]
    }
  ]
}