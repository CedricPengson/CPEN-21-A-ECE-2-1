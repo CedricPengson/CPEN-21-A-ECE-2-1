{
  "nbformat": 4,
  "nbformat_minor": 0,
  "metadata": {
    "colab": {
      "name": "Demo1",
      "provenance": [],
      "collapsed_sections": [],
      "authorship_tag": "ABX9TyMDlcAtCwn7+Xx3Su6Uz0Vq",
      "include_colab_link": true
    },
    "kernelspec": {
      "name": "python3",
      "display_name": "Python 3"
    },
    "language_info": {
      "name": "python"
    }
  },
  "cells": [
    {
      "cell_type": "markdown",
      "metadata": {
        "id": "view-in-github",
        "colab_type": "text"
      },
      "source": [
        "<a href=\"https://colab.research.google.com/github/CedricPengson/CPEN-21-A-ECE-2-1/blob/main/Demo1.ipynb\" target=\"_parent\"><img src=\"https://colab.research.google.com/assets/colab-badge.svg\" alt=\"Open In Colab\"/></a>"
      ]
    },
    {
      "cell_type": "code",
      "metadata": {
        "colab": {
          "base_uri": "https://localhost:8080/"
        },
        "id": "jWst2qsqBrCm",
        "outputId": "fd13f731-d876-4d73-b4b6-b04ade5069a0"
      },
      "source": [
        "print (\"I'm John Cedric Pengon from BSECE 2-1\")"
      ],
      "execution_count": null,
      "outputs": [
        {
          "output_type": "stream",
          "name": "stdout",
          "text": [
            "I'm John Cedric Pengon from BSECE 2-1\n"
          ]
        }
      ]
    },
    {
      "cell_type": "code",
      "metadata": {
        "colab": {
          "base_uri": "https://localhost:8080/"
        },
        "id": "30_6s0paO760",
        "outputId": "3fec3542-69e9-4090-b5bb-6d4054a9d93f"
      },
      "source": [
        "print(\"Taking Bachelors of Science in Electronics Engineering\")"
      ],
      "execution_count": null,
      "outputs": [
        {
          "output_type": "stream",
          "name": "stdout",
          "text": [
            "Taking Bachelors of Science in Electronics Engineering\n"
          ]
        }
      ]
    },
    {
      "cell_type": "code",
      "metadata": {
        "id": "5KLNPOGDXY-L"
      },
      "source": [
        "age = 19"
      ],
      "execution_count": null,
      "outputs": []
    },
    {
      "cell_type": "code",
      "metadata": {
        "colab": {
          "base_uri": "https://localhost:8080/"
        },
        "id": "mK1X-LMWL6FW",
        "outputId": "e36c973c-6dd1-4659-bfa5-dfeab0dfa125"
      },
      "source": [
        "num1 = 24\n",
        "num2 = 56\n",
        "\n",
        "# Add two numbers\n",
        "sum = num1 + num2\n",
        "\n",
        "# Display the sum\n",
        "print('The sum of {0} and {1} is {2}'.format(num1, num2, sum))"
      ],
      "execution_count": null,
      "outputs": [
        {
          "output_type": "stream",
          "name": "stdout",
          "text": [
            "The sum of 24 and 56 is 80\n"
          ]
        }
      ]
    }
  ]
}