{
  "nbformat": 4,
  "nbformat_minor": 0,
  "metadata": {
    "colab": {
      "name": "Lab1.ipynb",
      "provenance": [],
      "collapsed_sections": [],
      "authorship_tag": "ABX9TyMT5Il8sqPCw+XhGGX/wcXy",
      "include_colab_link": true
    },
    "kernelspec": {
      "name": "python3",
      "display_name": "Python 3"
    },
    "language_info": {
      "name": "python"
    }
  },
  "cells": [
    {
      "cell_type": "markdown",
      "metadata": {
        "id": "view-in-github",
        "colab_type": "text"
      },
      "source": [
        "<a href=\"https://colab.research.google.com/github/CedricPengson/CPEN-21-A-ECE-2-1/blob/main/Lab1.ipynb\" target=\"_parent\"><img src=\"https://colab.research.google.com/assets/colab-badge.svg\" alt=\"Open In Colab\"/></a>"
      ]
    },
    {
      "cell_type": "markdown",
      "metadata": {
        "id": "V12wDdNEpU6H"
      },
      "source": [
        "##**Laboratory 1**"
      ]
    },
    {
      "cell_type": "code",
      "metadata": {
        "colab": {
          "base_uri": "https://localhost:8080/"
        },
        "id": "soDpfgePpG17",
        "outputId": "df31d0b2-d1fd-4891-d95f-2d74864afcaa"
      },
      "source": [
        "print ('\"\\033[1mWelcome to Phyton Programming\"')"
      ],
      "execution_count": 57,
      "outputs": [
        {
          "output_type": "stream",
          "name": "stdout",
          "text": [
            "\"\u001b[1mWelcome to Phyton Programming\"\n"
          ]
        }
      ]
    },
    {
      "cell_type": "markdown",
      "metadata": {
        "id": "6RNaqshpvy3z"
      },
      "source": [
        "**Personal Details:**"
      ]
    },
    {
      "cell_type": "code",
      "metadata": {
        "colab": {
          "base_uri": "https://localhost:8080/"
        },
        "id": "BQuLkQ5yyCdW",
        "outputId": "0a07318e-d641-4775-981c-80952dcf639b"
      },
      "source": [
        "#Personal Details\n",
        "a=\"Name:\"\n",
        "b=\"John Cedric B. Pengson\"\n",
        "c=\"Age:\"\n",
        "d=\"19 years old\"\n",
        "e=\"Address:\"\n",
        "f=\"Phase 9, Block 68, Lot 6, Brentville st.,\"\n",
        "g=\"Governors Hills Subdivision, Brgy. Biclatan, General Trias, Cavite\"\n",
        "\n",
        "print (\"Personal Details:\")\n",
        "print(a+b)\n",
        "print(c+d)\n",
        "print(e+f+g)"
      ],
      "execution_count": 69,
      "outputs": [
        {
          "output_type": "stream",
          "name": "stdout",
          "text": [
            "Personal Details:\n",
            "Name:John Cedric B. Pengson\n",
            "Age:19 years old\n",
            "Address:Phase 9, Block 68, Lot 6, Brentville st.,Governors Hills Subdivision, Brgy. Biclatan, General Trias, Cavite\n"
          ]
        }
      ]
    }
  ]
}