{
  "nbformat": 4,
  "nbformat_minor": 0,
  "metadata": {
    "colab": {
      "name": "Final Exam.ipynb",
      "provenance": [],
      "collapsed_sections": [
        "2U_TnewFQB43"
      ],
      "authorship_tag": "ABX9TyN6qfhwJ63CRD5JtdDAvSab",
      "include_colab_link": true
    },
    "kernelspec": {
      "name": "python3",
      "display_name": "Python 3"
    },
    "language_info": {
      "name": "python"
    }
  },
  "cells": [
    {
      "cell_type": "markdown",
      "metadata": {
        "id": "view-in-github",
        "colab_type": "text"
      },
      "source": [
        "<a href=\"https://colab.research.google.com/github/CedricPengson/CPEN21A_ECE_2-1/blob/main/Final_Exam.ipynb\" target=\"_parent\"><img src=\"https://colab.research.google.com/assets/colab-badge.svg\" alt=\"Open In Colab\"/></a>"
      ]
    },
    {
      "cell_type": "markdown",
      "source": [
        "## PROBLEM STATEMENT #1"
      ],
      "metadata": {
        "id": "EpvXEhl2M7lK"
      }
    },
    {
      "cell_type": "code",
      "source": [
        "sum=0\n",
        "for x in range (-6,4):\n",
        "    sum=sum+x\n",
        "print (\"The sum of 10 numbers less than 5 is : \",sum)\n"
      ],
      "metadata": {
        "colab": {
          "base_uri": "https://localhost:8080/"
        },
        "id": "_kif3mRjNEfd",
        "outputId": "cc749b27-3be8-499e-e499-58d1a44a4355"
      },
      "execution_count": null,
      "outputs": [
        {
          "output_type": "stream",
          "name": "stdout",
          "text": [
            "The sum of 10 numbers less than 5 is :  -15\n"
          ]
        }
      ]
    },
    {
      "cell_type": "markdown",
      "source": [
        "## PROBLEM STATEMENT #2"
      ],
      "metadata": {
        "id": "6sRzZxtkQBiI"
      }
    },
    {
      "cell_type": "code",
      "source": [
        "number  = input(\"Enter number: \")\n",
        "n=0\n",
        "while (n<=0):\n",
        "  reverse = number[::-1]\n",
        "  number = int(number)\n",
        "  reverse = int(reverse)\n",
        "  first_digit = reverse % 10\n",
        "  last_digit = number % 10\n",
        "  total_sum = first_digit + last_digit\n",
        "  n+=1\n",
        "  \n",
        "  print(\"Sum of first & last digit of %d is %d\" %(number, total_sum))\n",
        "\n"
      ],
      "metadata": {
        "colab": {
          "base_uri": "https://localhost:8080/"
        },
        "id": "2Kk2HUWCQHjz",
        "outputId": "122cdfb2-3d0d-4f8e-8307-c000068f2f65"
      },
      "execution_count": null,
      "outputs": [
        {
          "output_type": "stream",
          "name": "stdout",
          "text": [
            "Enter number: 12345\n",
            "Sum of first & last digit of 12345 is 6\n"
          ]
        }
      ]
    },
    {
      "cell_type": "markdown",
      "source": [
        "## PROBLEM STATEMENT #3"
      ],
      "metadata": {
        "id": "2U_TnewFQB43"
      }
    },
    {
      "cell_type": "code",
      "source": [
        "print (\"Test Score\")\n",
        "scr=int(input(\"Enter score = \"))\n",
        "if scr>=90:\n",
        "  print(\"Your grade is = A\")\n",
        "elif scr>=80 and scr<90:\n",
        "  print (\"Your grade is = B\")\n",
        "elif scr>=70 and scr<80:\n",
        "  print (\"Your grade is = C\")\n",
        "elif scr>=60 and scr<70:\n",
        "  print (\"Your grade is = D\")\n",
        "else:\n",
        "  print (\"Your grade is = F\")\n"
      ],
      "metadata": {
        "colab": {
          "base_uri": "https://localhost:8080/"
        },
        "id": "akIq_v8RQLPW",
        "outputId": "e53c5abc-4a91-418e-8f62-1b1b1feb1601"
      },
      "execution_count": null,
      "outputs": [
        {
          "output_type": "stream",
          "name": "stdout",
          "text": [
            "Test Score\n",
            "Enter score = 90\n",
            "Your grade is = A\n"
          ]
        }
      ]
    },
    {
      "cell_type": "code",
      "source": [
        "print (\"Test Score\")\n",
        "scr=int(input(\"Enter score = \"))\n",
        "if scr>=90:\n",
        "  print(\"Your grade is = A\")\n",
        "elif scr>=80 and scr<90:\n",
        "  print (\"Your grade is = B\")\n",
        "elif scr>=70 and scr<80:\n",
        "  print (\"Your grade is = C\")\n",
        "elif scr>=60 and scr<70:\n",
        "  print (\"Your grade is = D\")\n",
        "else:\n",
        "  print (\"Your grade is = F\")"
      ],
      "metadata": {
        "colab": {
          "base_uri": "https://localhost:8080/"
        },
        "id": "fAom9Hp9-SWX",
        "outputId": "2b5cb6ba-753a-47a9-dfdf-f895449a44a6"
      },
      "execution_count": null,
      "outputs": [
        {
          "output_type": "stream",
          "name": "stdout",
          "text": [
            "Test Score\n",
            "Enter score = 89\n",
            "Your grade is = B\n"
          ]
        }
      ]
    },
    {
      "cell_type": "code",
      "source": [
        "print (\"Test Score\")\n",
        "scr=int(input(\"Enter score = \"))\n",
        "if scr>=90:\n",
        "  print(\"Your grade is = A\")\n",
        "elif scr>=80 and scr<90:\n",
        "  print (\"Your grade is = B\")\n",
        "elif scr>=70 and scr<80:\n",
        "  print (\"Your grade is = C\")\n",
        "elif scr>=60 and scr<70:\n",
        "  print (\"Your grade is = D\")\n",
        "else:\n",
        "  print (\"Your grade is = F\")"
      ],
      "metadata": {
        "colab": {
          "base_uri": "https://localhost:8080/"
        },
        "id": "TpIqS88T-YTk",
        "outputId": "0f5e550b-fcbc-45bb-e762-7876d1c6ebe4"
      },
      "execution_count": null,
      "outputs": [
        {
          "output_type": "stream",
          "name": "stdout",
          "text": [
            "Test Score\n",
            "Enter score = 79\n",
            "Your grade is = C\n"
          ]
        }
      ]
    },
    {
      "cell_type": "code",
      "source": [
        "print (\"Test Score\")\n",
        "scr=int(input(\"Enter score = \"))\n",
        "if scr>=90:\n",
        "  print(\"Your grade is = A\")\n",
        "elif scr>=80 and scr<90:\n",
        "  print (\"Your grade is = B\")\n",
        "elif scr>=70 and scr<80:\n",
        "  print (\"Your grade is = C\")\n",
        "elif scr>=60 and scr<70:\n",
        "  print (\"Your grade is = D\")\n",
        "else:\n",
        "  print (\"Your grade is = F\")"
      ],
      "metadata": {
        "colab": {
          "base_uri": "https://localhost:8080/"
        },
        "id": "3owHFPgO-ZAN",
        "outputId": "04a84c2f-3df9-44a6-8fbd-be7642608ecd"
      },
      "execution_count": null,
      "outputs": [
        {
          "output_type": "stream",
          "name": "stdout",
          "text": [
            "Test Score\n",
            "Enter score = 69\n",
            "Your grade is = D\n"
          ]
        }
      ]
    },
    {
      "cell_type": "code",
      "source": [
        "print (\"Test Score\")\n",
        "scr=int(input(\"Enter score = \"))\n",
        "if scr>=90:\n",
        "  print(\"Your grade is = A\")\n",
        "elif scr>=80 and scr<90:\n",
        "  print (\"Your grade is = B\")\n",
        "elif scr>=70 and scr<80:\n",
        "  print (\"Your grade is = C\")\n",
        "elif scr>=60 and scr<70:\n",
        "  print (\"Your grade is = D\")\n",
        "else:\n",
        "  print (\"Your grade is = F\")"
      ],
      "metadata": {
        "colab": {
          "base_uri": "https://localhost:8080/"
        },
        "id": "bwVGv4ry-Z3B",
        "outputId": "e3b5eed2-f9d7-4ca2-be05-e7e8de9f2e0b"
      },
      "execution_count": null,
      "outputs": [
        {
          "output_type": "stream",
          "name": "stdout",
          "text": [
            "Test Score\n",
            "Enter score = 59\n",
            "Your grade is = F\n"
          ]
        }
      ]
    }
  ]
}