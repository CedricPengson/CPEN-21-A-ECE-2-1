{
  "nbformat": 4,
  "nbformat_minor": 0,
  "metadata": {
    "colab": {
      "name": "Demo2/Lab2.ipynb",
      "provenance": [],
      "authorship_tag": "ABX9TyO2fuw1uHJymxZcXXpXjSZz",
      "include_colab_link": true
    },
    "kernelspec": {
      "name": "python3",
      "display_name": "Python 3"
    },
    "language_info": {
      "name": "python"
    }
  },
  "cells": [
    {
      "cell_type": "markdown",
      "metadata": {
        "id": "view-in-github",
        "colab_type": "text"
      },
      "source": [
        "<a href=\"https://colab.research.google.com/github/CedricPengson/CPEN21A_ECE_2-1/blob/main/Demo2_Lab2.ipynb\" target=\"_parent\"><img src=\"https://colab.research.google.com/assets/colab-badge.svg\" alt=\"Open In Colab\"/></a>"
      ]
    },
    {
      "cell_type": "markdown",
      "metadata": {
        "id": "vq1QqOSKHSkd"
      },
      "source": [
        "## Control Statement"
      ]
    },
    {
      "cell_type": "code",
      "metadata": {
        "colab": {
          "base_uri": "https://localhost:8080/"
        },
        "id": "5m3JHHPaHRHq",
        "outputId": "611f16c0-c6a2-4b0d-8647-61f1ec723a07"
      },
      "source": [
        "#If Statement \n",
        "a=12\n",
        "b=100\n",
        "if b>a:\n",
        "  print (\"b is greater than a\")\n",
        "\n",
        "#Elif Statements\n",
        "a=12\n",
        "b=12\n",
        "if b>a:\n",
        "  print(\"b is greater than a\")\n",
        "elif a==b:\n",
        "  print(\"a and b are equal\")\n",
        "\n",
        "#Else Statements\n",
        "a=200\n",
        "b=33\n",
        "if b>a:\n",
        "  print(\"b is greater than a\")\n",
        "elif a==b:\n",
        "  print(\"a and b are equal\")\n",
        "else:\n",
        "  print(\"a is greater than b\")\n",
        "\n",
        "#Short Hand If Statement\n",
        "if a>b: print (\"a is greater than b\")\n",
        "\n",
        "#Short Hand If Else Statement\n",
        "a=2\n",
        "b=330\n",
        "print (\"A\") if a>b else print(\"B\")\n",
        "\n",
        "#And-Both conditions are true\n",
        "a=200\n",
        "b=33\n",
        "c=500\n",
        "if a>b and c>a:\n",
        "  print(\"Both conditions are true\")\n",
        "\n",
        "#Or-at least one of the conditions is true\n",
        "a=200\n",
        "b=33\n",
        "c=500\n",
        "if a>b or a>c:\n",
        "  print(\"At least one of the conditions is true\")\n",
        "\n",
        "#Nested If\n",
        "x=41\n",
        "if x>10:\n",
        "  print(\"Above ten,\")\n",
        "  if x>20:\n",
        "    print(\"and also above 20!\")\n",
        "  else:\n",
        "    print(\"but not above 20.\")"
      ],
      "execution_count": 40,
      "outputs": [
        {
          "output_type": "stream",
          "name": "stdout",
          "text": [
            "b is greater than a\n",
            "a and b are equal\n",
            "a is greater than b\n",
            "a is greater than b\n",
            "B\n",
            "Both conditions are true\n",
            "At least one of the conditions is true\n",
            "Above ten,\n",
            "and also above 20!\n"
          ]
        }
      ]
    },
    {
      "cell_type": "markdown",
      "metadata": {
        "id": "VFRoNFTJKvCs"
      },
      "source": [
        "## Example#1"
      ]
    },
    {
      "cell_type": "code",
      "metadata": {
        "colab": {
          "base_uri": "https://localhost:8080/"
        },
        "id": "Hou580UkKuRY",
        "outputId": "4886a08d-241c-456d-84e0-b5592116d72e"
      },
      "source": [
        "# input age\n",
        "age = float(input(\"Enter a number: \"))\n",
        "\n",
        "# condition to check voting eligibility\n",
        "if age>=18:\n",
        "        status=\"Eligible\"\n",
        "else:\n",
        "    status=\"Not Eligible\"\n",
        "\n",
        "print(\"You are \",status,\" for Vote.\")\n"
      ],
      "execution_count": 39,
      "outputs": [
        {
          "output_type": "stream",
          "name": "stdout",
          "text": [
            "Enter a number: 14\n",
            "You are  Not Eligible  for Vote.\n"
          ]
        }
      ]
    },
    {
      "cell_type": "code",
      "metadata": {
        "colab": {
          "base_uri": "https://localhost:8080/"
        },
        "id": "Jqo1CB23jOkx",
        "outputId": "ac4035dd-b2a7-49cd-daf6-b5c8957d5117"
      },
      "source": [
        "# input age\n",
        "age = float(input(\"Enter a number: \"))\n",
        "\n",
        "# condition to check voting eligibility\n",
        "if age>=18:\n",
        "        status=\"Eligible\"\n",
        "else:\n",
        "    status=\"Not Eligible\"\n",
        "\n",
        "print(\"You are \",status,\" for Vote.\")"
      ],
      "execution_count": 46,
      "outputs": [
        {
          "output_type": "stream",
          "name": "stdout",
          "text": [
            "Enter a number: 19\n",
            "You are  Eligible  for Vote.\n"
          ]
        }
      ]
    },
    {
      "cell_type": "markdown",
      "metadata": {
        "id": "1SUiDIJzLKIt"
      },
      "source": [
        "## Example#2"
      ]
    },
    {
      "cell_type": "code",
      "metadata": {
        "colab": {
          "base_uri": "https://localhost:8080/"
        },
        "id": "NScJmRcrLQrT",
        "outputId": "7b502d29-9c96-4861-e799-8179b98c4c01"
      },
      "source": [
        "x = float(input(\"Enter a number: \"))\n",
        "if x > 0:\n",
        "   print(\"Positive number\")\n",
        "elif x == 0:\n",
        "   print(\"Zero\")\n",
        "else:\n",
        "   print(\"Negative number\")\n"
      ],
      "execution_count": 45,
      "outputs": [
        {
          "output_type": "stream",
          "name": "stdout",
          "text": [
            "Enter a number: 12\n",
            "Positive number\n"
          ]
        }
      ]
    },
    {
      "cell_type": "code",
      "metadata": {
        "colab": {
          "base_uri": "https://localhost:8080/"
        },
        "id": "Mt3Q2D70jEeU",
        "outputId": "0298cdc8-c52f-42ac-8414-0840a4ff34d7"
      },
      "source": [
        "x = float(input(\"Enter a number: \"))\n",
        "if x > 0:\n",
        "   print(\"Positive number\")\n",
        "elif x == 0:\n",
        "   print(\"Zero\")\n",
        "else:\n",
        "   print(\"Negative number\")"
      ],
      "execution_count": 43,
      "outputs": [
        {
          "output_type": "stream",
          "name": "stdout",
          "text": [
            "Enter a number: 0\n",
            "Zero\n"
          ]
        }
      ]
    },
    {
      "cell_type": "code",
      "metadata": {
        "colab": {
          "base_uri": "https://localhost:8080/"
        },
        "id": "woWWDrgcjEU_",
        "outputId": "6ab48e42-b5cf-4073-a8a4-1a1d2239fcf0"
      },
      "source": [
        "x = float(input(\"Enter a number: \"))\n",
        "if x > 0:\n",
        "   print(\"Positive number\")\n",
        "elif x == 0:\n",
        "   print(\"Zero\")\n",
        "else:\n",
        "   print(\"Negative number\")"
      ],
      "execution_count": 44,
      "outputs": [
        {
          "output_type": "stream",
          "name": "stdout",
          "text": [
            "Enter a number: -1\n",
            "Negative number\n"
          ]
        }
      ]
    },
    {
      "cell_type": "markdown",
      "metadata": {
        "id": "jlZEJVniMHnX"
      },
      "source": [
        "## Example#3"
      ]
    },
    {
      "cell_type": "code",
      "metadata": {
        "colab": {
          "base_uri": "https://localhost:8080/"
        },
        "id": "qG0C4YOmMLUT",
        "outputId": "cb4ab8e6-2496-4bd2-91fc-0ec2870d4468"
      },
      "source": [
        "Grade = float(input(\"Enter a number: \"))\n",
        "if Grade >= 75:\n",
        "    print(\"Passed\")\n",
        "elif Grade == 74:\n",
        "    print(\"Remidial\")\n",
        "else:\n",
        "    print(\"Failed\")"
      ],
      "execution_count": 38,
      "outputs": [
        {
          "output_type": "stream",
          "name": "stdout",
          "text": [
            "Enter a number: 76\n",
            "Passed\n"
          ]
        }
      ]
    },
    {
      "cell_type": "code",
      "metadata": {
        "colab": {
          "base_uri": "https://localhost:8080/"
        },
        "id": "DY5vtZq4i8rk",
        "outputId": "486b4c18-cb2d-4af2-e954-8285e3f7e4aa"
      },
      "source": [
        "Grade = float(input(\"Enter a number: \"))\n",
        "if Grade >= 75:\n",
        "    print(\"Passed\")\n",
        "elif Grade == 74:\n",
        "    print(\"Remidial\")\n",
        "else:\n",
        "    print(\"Failed\")"
      ],
      "execution_count": 41,
      "outputs": [
        {
          "output_type": "stream",
          "name": "stdout",
          "text": [
            "Enter a number: 74\n",
            "Remidial\n"
          ]
        }
      ]
    },
    {
      "cell_type": "code",
      "metadata": {
        "colab": {
          "base_uri": "https://localhost:8080/"
        },
        "id": "zaxpGjjEi8VG",
        "outputId": "0e57ecd1-bd76-492c-a1d4-790e039e7aec"
      },
      "source": [
        "Grade = float(input(\"Enter a number: \"))\n",
        "if Grade >= 75:\n",
        "    print(\"Passed\")\n",
        "elif Grade == 74:\n",
        "    print(\"Remidial\")\n",
        "else:\n",
        "    print(\"Failed\")"
      ],
      "execution_count": 42,
      "outputs": [
        {
          "output_type": "stream",
          "name": "stdout",
          "text": [
            "Enter a number: 73\n",
            "Failed\n"
          ]
        }
      ]
    }
  ]
}